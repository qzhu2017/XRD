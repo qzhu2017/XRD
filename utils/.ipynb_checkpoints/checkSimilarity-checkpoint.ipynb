{
 "cells": [
  {
   "cell_type": "code",
   "execution_count": 1,
   "metadata": {},
   "outputs": [
    {
     "ename": "ModuleNotFoundError",
     "evalue": "No module named 'XRD'",
     "output_type": "error",
     "traceback": [
      "\u001b[0;31m---------------------------------------------------------------------------\u001b[0m",
      "\u001b[0;31mModuleNotFoundError\u001b[0m                       Traceback (most recent call last)",
      "\u001b[0;32m<ipython-input-1-63bb15f60732>\u001b[0m in \u001b[0;36m<module>\u001b[0;34m\u001b[0m\n\u001b[1;32m      8\u001b[0m \u001b[0;32mimport\u001b[0m \u001b[0mmatplotlib\u001b[0m\u001b[0;34m.\u001b[0m\u001b[0mpyplot\u001b[0m \u001b[0;32mas\u001b[0m \u001b[0mplt\u001b[0m\u001b[0;34m\u001b[0m\u001b[0;34m\u001b[0m\u001b[0m\n\u001b[1;32m      9\u001b[0m \u001b[0;32mimport\u001b[0m \u001b[0mscipy\u001b[0m\u001b[0;34m\u001b[0m\u001b[0;34m\u001b[0m\u001b[0m\n\u001b[0;32m---> 10\u001b[0;31m \u001b[0;32mfrom\u001b[0m \u001b[0mXRD\u001b[0m \u001b[0;32mimport\u001b[0m \u001b[0mElement\u001b[0m\u001b[0;34m,\u001b[0m \u001b[0mcrystal\u001b[0m\u001b[0;34m,\u001b[0m \u001b[0mXRD\u001b[0m\u001b[0;34m\u001b[0m\u001b[0;34m\u001b[0m\u001b[0m\n\u001b[0m\u001b[1;32m     11\u001b[0m \u001b[0;32mfrom\u001b[0m \u001b[0mscipy\u001b[0m\u001b[0;34m.\u001b[0m\u001b[0mstats\u001b[0m \u001b[0;32mimport\u001b[0m \u001b[0mpearsonr\u001b[0m\u001b[0;34m\u001b[0m\u001b[0;34m\u001b[0m\u001b[0m\n\u001b[1;32m     12\u001b[0m \u001b[0;32mfrom\u001b[0m \u001b[0mscipy\u001b[0m \u001b[0;32mimport\u001b[0m \u001b[0mintegrate\u001b[0m\u001b[0;34m\u001b[0m\u001b[0;34m\u001b[0m\u001b[0m\n",
      "\u001b[0;31mModuleNotFoundError\u001b[0m: No module named 'XRD'"
     ]
    }
   ],
   "source": [
    "\"\"\"\n",
    "Load two patterns w/ PXRD\n",
    "\n",
    "Obtain these patterns from both simulates, and call XRD.calculate_symmetry() w/ the patterns\n",
    "as arguments.\n",
    "\"\"\"\n",
    "import numpy as np\n",
    "import matplotlib.pyplot as plt\n",
    "import scipy\n",
    "from XRD import Element, crystal, XRD\n",
    "from scipy.stats import pearsonr\n",
    "from scipy import integrate\n",
    "\n",
    "\n",
    "path = './data/'\n",
    "\n",
    "_struct1 = crystal('POSCAR',filename=path+'A-1-POSCAR')\n",
    "# _struct1 = crystal('cif',filename='NaCl.cif')\n",
    "_wavelength = 1.54056\n",
    "_max_diff_angle = 90\n",
    "_po = False\n",
    "_G = 0\n",
    "\n",
    "_struct2 = crystal('POSCAR',filename=path+'A-1-POSCAR')\n",
    "# _struct2 = crystal('cif',filename='NaCl.cif')\n",
    "\n",
    "xrd1 = XRD(_struct1,_wavelength,_max_diff_angle,_po,_G)\n",
    "sim2thetas1 = xrd1.theta2\n",
    "simpeaks1 = xrd1.xrd_intensity\n",
    "\n",
    "xrd2 = XRD(_struct2,_wavelength,_max_diff_angle,_po,_G)\n",
    "sim2thetas2 = xrd2.theta2\n",
    "simpeaks2 = xrd2.xrd_intensity\n"
   ]
  },
  {
   "cell_type": "code",
   "execution_count": null,
   "metadata": {},
   "outputs": [],
   "source": [
    "def PearsonSim(fpeak,f2theta, gpeak,g2theta):\n",
    "    xfg = np.concatenate((f2theta,g2theta))\n",
    "    xfg = np.linspace(xfg[0],xfg[-1],f2theta.shape[0])\n",
    "    sigF = fpeak-np.mean(fpeak)\n",
    "    sigG = gpeak-np.mean(gpeak)\n",
    "    return integrate.trapz(sigF*sigG,xfg)/np.sqrt(integrate.trapz(sigF**2,f2theta) * integrate.trapz(sigG**2,g2theta))"
   ]
  },
  {
   "cell_type": "code",
   "execution_count": null,
   "metadata": {},
   "outputs": [],
   "source": [
    "\"\"\"\n",
    "XRD.get_profile(Num of points in profile, profile function, fwhm) function will return the profiling function (g2thetas and gpeaks) of the simulated patterns. \n",
    "\"\"\"\n",
    "\n",
    "# get xrd profiling\n",
    "fwhm1 = 0.9\n",
    "fwhm2 = 0.9\n",
    "\n",
    "xrd1.get_profile(sim2thetas1,simpeaks1,100000,'gaussian',fwhm1)\n",
    "xrd2.get_profile(sim2thetas2,simpeaks2,100000,'gaussian',fwhm2)\n",
    "f2thetas = xrd1.g2thetas\n",
    "fpeaks = xrd1.gpeaks\n",
    "g2thetas = xrd2.g2thetas\n",
    "gpeaks = xrd2.gpeaks\n",
    "\n",
    "\"\"\"\n",
    "Similarity().calculate() takes the profiled intensities to compare (fpeaks, gpeaks, triangle function weight)\n",
    "\"\"\"\n",
    "\n",
    "from similarity import Similarity\n",
    "S = Similarity(fpeaks, f2thetas,gpeaks, g2thetas,0.6).calculate()\n",
    "print(S)\n",
    "print(pearsonr(fpeaks,gpeaks))\n",
    "print(PearsonSim(fpeaks,f2thetas,gpeaks,g2thetas))\n",
    "\n",
    "plt.figure(figsize=(15,8))\n",
    "plt.plot(f2thetas,fpeaks, 'r-',label = 'f(x)')\n",
    "plt.plot(g2thetas,-gpeaks, 'k--',label = 'g(x)')\n",
    "plt.legend()\n",
    "plt.show()"
   ]
  },
  {
   "cell_type": "code",
   "execution_count": null,
   "metadata": {},
   "outputs": [],
   "source": []
  },
  {
   "cell_type": "code",
   "execution_count": null,
   "metadata": {},
   "outputs": [],
   "source": []
  },
  {
   "cell_type": "code",
   "execution_count": null,
   "metadata": {},
   "outputs": [],
   "source": []
  }
 ],
 "metadata": {
  "kernelspec": {
   "display_name": "Python 3",
   "language": "python",
   "name": "python3"
  },
  "language_info": {
   "codemirror_mode": {
    "name": "ipython",
    "version": 3
   },
   "file_extension": ".py",
   "mimetype": "text/x-python",
   "name": "python",
   "nbconvert_exporter": "python",
   "pygments_lexer": "ipython3",
   "version": "3.7.4"
  }
 },
 "nbformat": 4,
 "nbformat_minor": 4
}
